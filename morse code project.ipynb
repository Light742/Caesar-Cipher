{
 "cells": [
  {
   "cell_type": "code",
   "execution_count": null,
   "id": "4945e22f-767d-4a50-bf27-211319d4a0cf",
   "metadata": {},
   "outputs": [],
   "source": [
    "# len shift must not exceed z\n",
    "alphabet = ['a', 'b', 'c', 'd', 'e', 'f', 'g', 'h', 'i', 'j', 'k', 'l', 'm', 'n', 'o', 'p', 'q', 'r', 's', 't', 'u', 'v', 'w', 'x', 'y', 'z']\n",
    "len(alphabet)\n",
    "\n",
    "# if len(text) = len((len(alphabet)) + shift) must not exceed 26\n",
    "# if it exceeds 26 , counting must return to 0 "
   ]
  },
  {
   "cell_type": "code",
   "execution_count": null,
   "id": "d4d51a46-9486-47d7-85b0-8573e883ac05",
   "metadata": {},
   "outputs": [],
   "source": []
  },
  {
   "cell_type": "code",
   "execution_count": null,
   "id": "370d8e1d-5aec-4f83-a92f-acbc63bc3361",
   "metadata": {},
   "outputs": [],
   "source": [
    "alphabet = ['a', 'b', 'c', 'd', 'e', 'f', 'g', 'h', 'i', 'j', 'k', 'l', 'm', 'n', 'o', 'p', 'q', 'r', 's', 't', 'u', 'v', 'w', 'x', 'y', 'z']\n",
    "\n",
    "\n",
    "text = input(\"Type your message:\\n\").lower()\n",
    "shift = int(input(\"Type the shift number:\\n\"))\n",
    "\n",
    "\n",
    "text_list = list(text)\n",
    "for i in range(len(text_list)):\n",
    "    if (alphabet.index(text_list[i]) + shift) < 26:\n",
    "        text_list[i] = alphabet[alphabet.index(text_list[i]) + shift]\n",
    "    else:\n",
    "        text_list[i] = alphabet[(alphabet.index(text_list[i]) + shift) - 26]\n",
    "    \n",
    "encode_word = ''.join(text_list)\n",
    "print(encode_word)\n",
    "    "
   ]
  },
  {
   "cell_type": "code",
   "execution_count": null,
   "id": "7fa3a02f-44ab-45c7-92e3-40db49069903",
   "metadata": {},
   "outputs": [],
   "source": [
    "# decoder\n",
    "\n",
    "alphabet = ['a', 'b', 'c', 'd', 'e', 'f', 'g', 'h', 'i', 'j', 'k', 'l', 'm', 'n', 'o', 'p', 'q', 'r', 's', 't', 'u', 'v', 'w', 'x', 'y', 'z']\n",
    "\n",
    "\n",
    "text = input(\"Type your message:\\n\").lower()\n",
    "shift = int(input(\"Type the shift number:\\n\"))\n",
    "\n",
    "\n",
    "text_list = list(text)\n",
    "for i in range(len(text_list)):\n",
    "    if (alphabet.index(text_list[i]) - shift) >= 0:\n",
    "        text_list[i] = alphabet[alphabet.index(text_list[i]) - shift]\n",
    "    else:\n",
    "        text_list[i] = alphabet[(alphabet.index(text_list[i]) - shift) + 26]\n",
    "    \n",
    "decode_word = ''.join(text_list)\n",
    "print(decode_word)"
   ]
  },
  {
   "cell_type": "code",
   "execution_count": null,
   "id": "6e1207ec-5c9a-4701-ae1f-04253c002c05",
   "metadata": {},
   "outputs": [],
   "source": [
    "direction = input(\"Type 'encode' to encrypt, type 'decode' to decrypt:\\n\")\n",
    "alphabet = ['a', 'b', 'c', 'd', 'e', 'f', 'g', 'h', 'i', 'j', 'k', 'l', 'm', 'n', 'o', 'p', 'q', 'r', 's', 't', 'u', 'v', 'w', 'x', 'y', 'z']\n",
    "\n",
    "\n",
    "text = input(\"Type your message:\\n\").lower()\n",
    "shift = int(input(\"Type the shift number:\\n\"))\n",
    "\n",
    "def encode( text_plain, shift_number):\n",
    "    text_list = list(text)\n",
    "    for i in range(len(text_list)):\n",
    "        if alphabet.index(text_list[i]) + shift < 26:\n",
    "            text_list[i] = alphabet[alphabet.index(text_list[i]) + shift]\n",
    "        else:\n",
    "            text_list[i] = alphabet[(alphabet.index(text_list[i]) + shift) - 26]\n",
    "    \n",
    "    encode_word = ''.join(text_list)\n",
    "    print(f\"The encoded text is {encode_word}.\")\n",
    "    \n",
    "def decode( text_plain, shift_number):\n",
    "    text_list = list(text)\n",
    "    for i in range(len(text_list)):\n",
    "        if (alphabet.index(text_list[i]) - shift) >= 0:\n",
    "            text_list[i] = alphabet[alphabet.index(text_list[i]) - shift]\n",
    "        else:\n",
    "            text_list[i] = alphabet[(alphabet.index(text_list[i]) - shift) + 26]\n",
    "    \n",
    "    decode_word = ''.join(text_list)\n",
    "    print(f\"The decoded text is {decode_word}.\")\n",
    "    \n",
    "if direction == \"encode\":\n",
    "    encode(text_plain = text, shift_number = shift)\n",
    "else:\n",
    "    decode(text_plain = text, shift_number = shift)\n",
    "    \n",
    "\n",
    "    \n",
    "\n",
    "\n"
   ]
  },
  {
   "cell_type": "code",
   "execution_count": null,
   "id": "6814d085-1a78-44a1-b1f1-b6278134ed9e",
   "metadata": {},
   "outputs": [
    {
     "name": "stdin",
     "output_type": "stream",
     "text": [
      "Type 'encode' to encrypt, type 'decode' to decrypt:\n",
      " encode\n",
      "Type your message:\n",
      " a\n",
      "Type the shift number:\n",
      " 1\n"
     ]
    },
    {
     "name": "stdout",
     "output_type": "stream",
     "text": [
      "The encoded text is b.\n"
     ]
    },
    {
     "name": "stdin",
     "output_type": "stream",
     "text": [
      "Do you still want to use Caesar?: Y/N \n",
      " y\n",
      "Type 'encode' to encrypt, type 'decode' to decrypt:\n",
      " encode\n",
      "Type your message:\n",
      " bbbbbbbb555\n",
      "Type the shift number:\n",
      " 4\n"
     ]
    },
    {
     "name": "stdout",
     "output_type": "stream",
     "text": [
      "The encoded text is ffffffff555.\n"
     ]
    }
   ],
   "source": [
    "# simplifying using caesar function\n",
    "alphabet = ['a', 'b', 'c', 'd', 'e', 'f', 'g', 'h', 'i', 'j', 'k', 'l', 'm', 'n', 'o', 'p', 'q', 'r', 's', 't', 'u', 'v', 'w', 'x', 'y', 'z']\n",
    "\n",
    "\n",
    "def caesar( method, message, shift_number):\n",
    "    while shift_number > 26:\n",
    "        shift_number -= 26\n",
    "    if method == \"encode\":\n",
    "        for i in range(len(text_list)):\n",
    "            if text_list[i] in alphabet:\n",
    "                if type(text_list[i]) == str:\n",
    "                    if alphabet.index(text_list[i]) + shift < 26:\n",
    "                        text_list[i] = alphabet[alphabet.index(text_list[i]) + shift_number ]\n",
    "                    else:\n",
    "                        text_list[i] = alphabet[(alphabet.index(text_list[i]) + shift_number) - 26]\n",
    "          \n",
    "            \n",
    "        encode_word = ''.join(text_list)\n",
    "        print(f\"The encoded text is {encode_word}.\")\n",
    "        \n",
    "    else:\n",
    "         for i in range(len(text_list)):\n",
    "            if text_list[i] in alphabet:\n",
    "                if type(text_list[i]) == str:\n",
    "                    if (alphabet.index(text_list[i]) - shift) >= 0:\n",
    "                        text_list[i] = alphabet[alphabet.index(text_list[i]) - shift_number]\n",
    "                    else:\n",
    "                        text_list[i] = alphabet[(alphabet.index(text_list[i]) - shift_number) + 26]\n",
    "            \n",
    "    \n",
    "         decode_word = ''.join(text_list)\n",
    "         print(f\"The decoded text is {decode_word}.\")\n",
    "            \n",
    "   \n",
    "    \n",
    "        \n",
    "should_continue = True    \n",
    "while should_continue == True:            \n",
    "    direction = input(\"Type 'encode' to encrypt, type 'decode' to decrypt:\\n\")\n",
    "    text = input(\"Type your message:\\n\").lower()\n",
    "    shift = int(input(\"Type the shift number:\\n\"))\n",
    "    text_list = list(text)\n",
    "    caesar( method = direction, message = text, shift_number = shift)\n",
    "    decision = input(\"Do you still want to use Caesar?: Y/N \\n\").lower()\n",
    "    \n",
    "if decision == \"y\":\n",
    "    should_continue = False\n",
    "    \n",
    "\n",
    "    \n",
    "\n",
    "\n",
    "            \n"
   ]
  },
  {
   "cell_type": "code",
   "execution_count": null,
   "id": "63acd561-36d3-46ce-a17e-cbcc6f1f8d92",
   "metadata": {},
   "outputs": [],
   "source": []
  },
  {
   "cell_type": "code",
   "execution_count": null,
   "id": "76572de6-433d-4e60-8de7-1828b9755c9e",
   "metadata": {},
   "outputs": [],
   "source": []
  }
 ],
 "metadata": {
  "kernelspec": {
   "display_name": "Python 3 (ipykernel)",
   "language": "python",
   "name": "python3"
  },
  "language_info": {
   "codemirror_mode": {
    "name": "ipython",
    "version": 3
   },
   "file_extension": ".py",
   "mimetype": "text/x-python",
   "name": "python",
   "nbconvert_exporter": "python",
   "pygments_lexer": "ipython3",
   "version": "3.9.7"
  }
 },
 "nbformat": 4,
 "nbformat_minor": 5
}
